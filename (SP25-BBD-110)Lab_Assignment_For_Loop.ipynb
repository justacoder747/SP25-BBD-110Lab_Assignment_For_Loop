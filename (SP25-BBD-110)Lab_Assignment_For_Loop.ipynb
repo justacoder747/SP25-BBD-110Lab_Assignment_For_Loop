{
 "cells": [
  {
   "cell_type": "code",
   "execution_count": 1,
   "id": "c3a014db-4683-4043-9f06-aba1b5f8b849",
   "metadata": {},
   "outputs": [
    {
     "name": "stdout",
     "output_type": "stream",
     "text": [
      "['viva', 'the dark knight', 'harry potter']\n"
     ]
    }
   ],
   "source": [
    "#Queston # 01:\n",
    "#List:\n",
    "movie = ['viva', 'the dark knight', 'harry potter']\n",
    "print(movie)"
   ]
  },
  {
   "cell_type": "code",
   "execution_count": null,
   "id": "6e265b88-5773-418d-a0b7-c9a2e5a966ee",
   "metadata": {},
   "outputs": [
    {
     "name": "stdout",
     "output_type": "stream",
     "text": [
      "viva\n",
      "harry potter\n",
      "the dark knight\n"
     ]
    }
   ],
   "source": [
    "# Question # 02:\n",
    "#List  Lterate:\n",
    "movies = ['viva','harry potter', 'the dark knight']\n",
    "for movie in movies:\n",
    "    print(movie)"
   ]
  },
  {
   "cell_type": "code",
   "execution_count": 3,
   "id": "8cabd151-e1af-48a9-8700-267a540a46d6",
   "metadata": {},
   "outputs": [
    {
     "name": "stdout",
     "output_type": "stream",
     "text": [
      "0 viva\n",
      "1 herry potter\n",
      "2 the dark knight\n"
     ]
    }
   ],
   "source": [
    "#Question # 03:\n",
    "#List modify:\n",
    "movie = ['viva','herry potter','the dark knight']\n",
    "for i in range(len(movie)):\n",
    "    print(f\"{i} {movie[i]}\")"
   ]
  },
  {
   "cell_type": "code",
   "execution_count": 4,
   "id": "2bab747b-4dc1-4c55-9a84-7d36e53addbd",
   "metadata": {},
   "outputs": [
    {
     "name": "stdout",
     "output_type": "stream",
     "text": [
      "N\n",
      "o\n",
      "o\n",
      "r\n",
      " \n",
      "F\n",
      "a\n",
      "t\n",
      "i\n",
      "m\n",
      "a\n"
     ]
    }
   ],
   "source": [
    "#Question no 04:\n",
    "#String Lteration:\n",
    "name = \"Noor Fatima\"\n",
    "for char in name:\n",
    "    print(char)"
   ]
  },
  {
   "cell_type": "code",
   "execution_count": null,
   "id": "00ce4634-f5c5-43ed-aa97-973ffa01442a",
   "metadata": {},
   "outputs": [
    {
     "name": "stdout",
     "output_type": "stream",
     "text": [
      "The number of vowels in 'Noor Fatima' is: 5\n"
     ]
    }
   ],
   "source": [
    "name = \"Noor Fatima\"\n",
    "\n",
    "vowels = \"aeiouAEIOU\"\n",
    "\n",
    "vowel_count = 0\n",
    "for char in name:\n",
    "    if char in vowels:\n",
    "        vowel_count += 1\n",
    "\n",
    "print(f\"The number of vowels in {name} is: {vowel_count}\")"
   ]
  },
  {
   "cell_type": "code",
   "execution_count": null,
   "id": "0d9eda95-c6e6-4c0f-98b1-da16c8d0507d",
   "metadata": {},
   "outputs": [],
   "source": []
  }
 ],
 "metadata": {
  "kernelspec": {
   "display_name": "base",
   "language": "python",
   "name": "python3"
  },
  "language_info": {
   "codemirror_mode": {
    "name": "ipython",
    "version": 3
   },
   "file_extension": ".py",
   "mimetype": "text/x-python",
   "name": "python",
   "nbconvert_exporter": "python",
   "pygments_lexer": "ipython3",
   "version": "3.12.7"
  }
 },
 "nbformat": 4,
 "nbformat_minor": 5
}
